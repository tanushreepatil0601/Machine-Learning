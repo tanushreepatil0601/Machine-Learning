{
 "cells": [
  {
   "cell_type": "markdown",
   "id": "308ad703-833c-4628-9d25-998c12074092",
   "metadata": {},
   "source": [
    "- Supervised ML apog : That is defined under \"lable datasets\"\n",
    "- Can be divided in 2 types of problems :\n",
    "- 1. Classification Models - Problems that are used in an algorithm to accurately assign test data into specific catageroty, such as separating emails as spam or not spams. linear classifies, Decision Trees and Random Forests are common types of Classification Algo\n",
    "  2. Regression/Prediction Models: \"Uses an algorithm to understand the relationship between dependent and independent variables. This models are helpful in predicting numerical values based on different data points. types are linear, Logistics Regression, Polynomial Reg\n",
    "     \n",
    "- Un-supervised ML : \"It is a ML apog to analysis and custer unlable data sets\". This algorithms discover hidden patterns in data without the needs for human directions.\n",
    "- 3 main types in Un-supervised ML MODELS:\n",
    "- 1. Clustering: It is the data mining techique for grouping unlabel data based on their simplity & difference. (k). Use-case: Market segmentation, image recogintion.\n",
    "  2. Asociation: Uses differnt rules to find relationships between diff variables in a given dataset. Depends on rules uses, CNN, ANN, DL.\n",
    "  3. Dimensiorlity Reduction: It is used when the number of features/columns in a given dataset is too high. Model is \"Principal Compents Analysis(PCA)\"."
   ]
  },
  {
   "cell_type": "markdown",
   "id": "b2456f48-dc52-4fdf-92cd-ed5739313e6d",
   "metadata": {},
   "source": [
    "# Steps IN ML Model \n",
    "- Import necessary libraries\n",
    "- Load the datasets\n",
    "- Get the X(explanatory features/variables) and y(target variables, always a series)\n",
    "- If there is any categorical variables, convert to num data types, else skip this step\n",
    "- Split data into traing and test  ***from sklearn.model_selection import train_test_split***\n",
    "- Create the instance of the ML Model\n",
    "- Train the model on Training dataset\n",
    "- Test the model on test sample of X get the predicted y's\n",
    "- Test the model on test sample of X to get the predicted y's\n",
    "- Compare the predicted y's with test y to evaluate the model\n"
   ]
  },
  {
   "cell_type": "code",
   "execution_count": 1,
   "id": "c1882665-8559-4432-8194-4b0f5955a9dc",
   "metadata": {},
   "outputs": [],
   "source": [
    "import numpy as np\n",
    "import pandas as pd\n",
    "import matplotlib.pyplot as plt\n",
    "import seaborn as sns"
   ]
  },
  {
   "cell_type": "code",
   "execution_count": 3,
   "id": "2eba661e-8809-4e9b-b87b-1a24e9215176",
   "metadata": {},
   "outputs": [],
   "source": [
    "df = pd.read_csv(\"Advertising Budget and Sales.csv\")"
   ]
  },
  {
   "cell_type": "code",
   "execution_count": 11,
   "id": "4ecfeb4a-00a6-428e-87dc-918fbb86c9c9",
   "metadata": {},
   "outputs": [
    {
     "data": {
      "text/html": [
       "<div>\n",
       "<style scoped>\n",
       "    .dataframe tbody tr th:only-of-type {\n",
       "        vertical-align: middle;\n",
       "    }\n",
       "\n",
       "    .dataframe tbody tr th {\n",
       "        vertical-align: top;\n",
       "    }\n",
       "\n",
       "    .dataframe thead th {\n",
       "        text-align: right;\n",
       "    }\n",
       "</style>\n",
       "<table border=\"1\" class=\"dataframe\">\n",
       "  <thead>\n",
       "    <tr style=\"text-align: right;\">\n",
       "      <th></th>\n",
       "      <th>TV Ad Budget ($)</th>\n",
       "      <th>Radio Ad Budget ($)</th>\n",
       "      <th>Newspaper Ad Budget ($)</th>\n",
       "      <th>Sales ($)</th>\n",
       "    </tr>\n",
       "  </thead>\n",
       "  <tbody>\n",
       "    <tr>\n",
       "      <th>0</th>\n",
       "      <td>230.1</td>\n",
       "      <td>37.8</td>\n",
       "      <td>69.2</td>\n",
       "      <td>22.1</td>\n",
       "    </tr>\n",
       "    <tr>\n",
       "      <th>1</th>\n",
       "      <td>44.5</td>\n",
       "      <td>39.3</td>\n",
       "      <td>45.1</td>\n",
       "      <td>10.4</td>\n",
       "    </tr>\n",
       "    <tr>\n",
       "      <th>2</th>\n",
       "      <td>17.2</td>\n",
       "      <td>45.9</td>\n",
       "      <td>69.3</td>\n",
       "      <td>9.3</td>\n",
       "    </tr>\n",
       "    <tr>\n",
       "      <th>3</th>\n",
       "      <td>151.5</td>\n",
       "      <td>41.3</td>\n",
       "      <td>58.5</td>\n",
       "      <td>18.5</td>\n",
       "    </tr>\n",
       "    <tr>\n",
       "      <th>4</th>\n",
       "      <td>180.8</td>\n",
       "      <td>10.8</td>\n",
       "      <td>58.4</td>\n",
       "      <td>12.9</td>\n",
       "    </tr>\n",
       "  </tbody>\n",
       "</table>\n",
       "</div>"
      ],
      "text/plain": [
       "   TV Ad Budget ($)  Radio Ad Budget ($)  Newspaper Ad Budget ($)  Sales ($)\n",
       "0             230.1                 37.8                     69.2       22.1\n",
       "1              44.5                 39.3                     45.1       10.4\n",
       "2              17.2                 45.9                     69.3        9.3\n",
       "3             151.5                 41.3                     58.5       18.5\n",
       "4             180.8                 10.8                     58.4       12.9"
      ]
     },
     "execution_count": 11,
     "metadata": {},
     "output_type": "execute_result"
    }
   ],
   "source": [
    "df.drop (columns = \t\"Unnamed: 0\", inplace = True)\n",
    "df.head()"
   ]
  },
  {
   "cell_type": "markdown",
   "id": "61ed480b-4acc-4a18-9ca8-2da4cd985111",
   "metadata": {},
   "source": [
    "# 1. Business Problem: What is the impact of advertising budget on sales?"
   ]
  },
  {
   "cell_type": "code",
   "execution_count": 4,
   "id": "e9f0bcf0-7df0-4844-b474-f25756972411",
   "metadata": {},
   "outputs": [],
   "source": [
    "df[\"total_spend\"] = df[\"TV Ad Budget ($)\"]+df[\"Radio Ad Budget ($)\"]+df[\"Newspaper Ad Budget ($)\"]"
   ]
  },
  {
   "cell_type": "code",
   "execution_count": 5,
   "id": "caf4f71e-f656-4c16-9047-6de32ce7f1f7",
   "metadata": {},
   "outputs": [
    {
     "data": {
      "image/png": "[encoded data removed]",
      "text/plain": [
       "<Figure size 640x480 with 1 Axes>"
      ]
     },
     "metadata": {},
     "output_type": "display_data"
    }
   ],
   "source": [
    "sns.scatterplot(x = \"total_spend\", y=\"Sales ($)\", data =df)\n",
    "plt.show()"
   ]
  },
  {
   "cell_type": "code",
   "execution_count": 6,
   "id": "235dc416-7312-43f6-aca5-26eba3911619",
   "metadata": {},
   "outputs": [
    {
     "data": {
      "image/png": "[encoded data removed]",
      "text/plain": [
       "<Figure size 640x480 with 1 Axes>"
      ]
     },
     "metadata": {},
     "output_type": "display_data"
    }
   ],
   "source": [
    "sns.regplot(x = \"total_spend\", y=\"Sales ($)\", data =df)\n",
    "plt.show()"
   ]
  },
  {
   "cell_type": "code",
   "execution_count": 7,
   "id": "c2a297a7-9cfe-4cda-9246-66b823720d5f",
   "metadata": {},
   "outputs": [],
   "source": [
    "X = df[\"total_spend\"]\n",
    "y = df[\"Sales ($)\"]"
   ]
  },
  {
   "cell_type": "code",
   "execution_count": 8,
   "id": "7e96ccb1-fd0f-4413-b9d9-4cef4efca96b",
   "metadata": {},
   "outputs": [
    {
     "data": {
      "text/plain": [
       "array([0.05, 4.24])"
      ]
     },
     "execution_count": 8,
     "metadata": {},
     "output_type": "execute_result"
    }
   ],
   "source": [
    "np.polyfit(X,y,1).round(2)  #method round"
   ]
  },
  {
   "cell_type": "code",
   "execution_count": 9,
   "id": "0e19b31e-563d-48bc-9d17-4850836b55e7",
   "metadata": {},
   "outputs": [],
   "source": [
    "# x = featues , y= target_variables"
   ]
  },
  {
   "cell_type": "code",
   "execution_count": 10,
   "id": "0fae41bb-392a-4349-aa00-74e1ac954830",
   "metadata": {},
   "outputs": [],
   "source": [
    "adv_spending = np.linspace(0,500,100)"
   ]
  },
  {
   "cell_type": "code",
   "execution_count": 11,
   "id": "2aade2f8-c5d2-4798-80c8-919bdafbcb26",
   "metadata": {},
   "outputs": [],
   "source": [
    "# ployfit limitation: Work for onlt 1-D array.i.e x = one_variable only\n",
    "# same for REGPLOT"
   ]
  },
  {
   "cell_type": "code",
   "execution_count": 12,
   "id": "6a8348c6-ceb2-4605-a789-363c4bd74014",
   "metadata": {},
   "outputs": [],
   "source": [
    "predicted_sales = 4.24 + 0.05*adv_spending"
   ]
  },
  {
   "cell_type": "code",
   "execution_count": 14,
   "id": "5ccede01-0585-4be4-bbf7-44f028b2cf17",
   "metadata": {},
   "outputs": [
    {
     "data": {
      "image/png": "[encoded data removed]",
      "text/plain": [
       "<Figure size 640x480 with 1 Axes>"
      ]
     },
     "metadata": {},
     "output_type": "display_data"
    }
   ],
   "source": [
    "plt.plot(adv_spending, predicted_sales)\n",
    "plt.show()"
   ]
  },
  {
   "cell_type": "code",
   "execution_count": 15,
   "id": "6cace24e-d170-4944-98c3-c5053e41919a",
   "metadata": {},
   "outputs": [],
   "source": [
    "# Reducing the col names to short"
   ]
  },
  {
   "cell_type": "code",
   "execution_count": 16,
   "id": "67981193-a52d-4ec9-88a1-1e58e11cb17f",
   "metadata": {},
   "outputs": [
    {
     "data": {
      "text/html": [
       "<div>\n",
       "<style scoped>\n",
       "    .dataframe tbody tr th:only-of-type {\n",
       "        vertical-align: middle;\n",
       "    }\n",
       "\n",
       "    .dataframe tbody tr th {\n",
       "        vertical-align: top;\n",
       "    }\n",
       "\n",
       "    .dataframe thead th {\n",
       "        text-align: right;\n",
       "    }\n",
       "</style>\n",
       "<table border=\"1\" class=\"dataframe\">\n",
       "  <thead>\n",
       "    <tr style=\"text-align: right;\">\n",
       "      <th></th>\n",
       "      <th>Unnamed: 0</th>\n",
       "      <th>TV Ad Budget ($)</th>\n",
       "      <th>Radio Ad Budget ($)</th>\n",
       "      <th>Newspaper Ad Budget ($)</th>\n",
       "      <th>Sales ($)</th>\n",
       "      <th>total_spend</th>\n",
       "    </tr>\n",
       "  </thead>\n",
       "  <tbody>\n",
       "    <tr>\n",
       "      <th>0</th>\n",
       "      <td>1</td>\n",
       "      <td>230.1</td>\n",
       "      <td>37.8</td>\n",
       "      <td>69.2</td>\n",
       "      <td>22.1</td>\n",
       "      <td>337.1</td>\n",
       "    </tr>\n",
       "    <tr>\n",
       "      <th>1</th>\n",
       "      <td>2</td>\n",
       "      <td>44.5</td>\n",
       "      <td>39.3</td>\n",
       "      <td>45.1</td>\n",
       "      <td>10.4</td>\n",
       "      <td>128.9</td>\n",
       "    </tr>\n",
       "    <tr>\n",
       "      <th>2</th>\n",
       "      <td>3</td>\n",
       "      <td>17.2</td>\n",
       "      <td>45.9</td>\n",
       "      <td>69.3</td>\n",
       "      <td>9.3</td>\n",
       "      <td>132.4</td>\n",
       "    </tr>\n",
       "    <tr>\n",
       "      <th>3</th>\n",
       "      <td>4</td>\n",
       "      <td>151.5</td>\n",
       "      <td>41.3</td>\n",
       "      <td>58.5</td>\n",
       "      <td>18.5</td>\n",
       "      <td>251.3</td>\n",
       "    </tr>\n",
       "    <tr>\n",
       "      <th>4</th>\n",
       "      <td>5</td>\n",
       "      <td>180.8</td>\n",
       "      <td>10.8</td>\n",
       "      <td>58.4</td>\n",
       "      <td>12.9</td>\n",
       "      <td>250.0</td>\n",
       "    </tr>\n",
       "  </tbody>\n",
       "</table>\n",
       "</div>"
      ],
      "text/plain": [
       "   Unnamed: 0  TV Ad Budget ($)  Radio Ad Budget ($)  Newspaper Ad Budget ($)  \\\n",
       "0           1             230.1                 37.8                     69.2   \n",
       "1           2              44.5                 39.3                     45.1   \n",
       "2           3              17.2                 45.9                     69.3   \n",
       "3           4             151.5                 41.3                     58.5   \n",
       "4           5             180.8                 10.8                     58.4   \n",
       "\n",
       "   Sales ($)  total_spend  \n",
       "0       22.1        337.1  \n",
       "1       10.4        128.9  \n",
       "2        9.3        132.4  \n",
       "3       18.5        251.3  \n",
       "4       12.9        250.0  "
      ]
     },
     "execution_count": 16,
     "metadata": {},
     "output_type": "execute_result"
    }
   ],
   "source": [
    "df.head()"
   ]
  },
  {
   "cell_type": "code",
   "execution_count": 19,
   "id": "49f8fa63-cbac-42b8-bcb3-59e35b9c06ff",
   "metadata": {},
   "outputs": [],
   "source": [
    "df.rename(columns = {\"TV Ad Budget ($)\":\"TV\", \"Radio Ad Budget ($)\":\"Radio\", \"Newspaper Ad Budget ($)\":\"Newspaper\", \"Sales ($)\":\"Sales\"}, inplace = True)\t"
   ]
  },
  {
   "cell_type": "code",
   "execution_count": 20,
   "id": "bde519bd-ec41-42f0-8ab3-0c8f03ecab16",
   "metadata": {},
   "outputs": [
    {
     "data": {
      "text/html": [
       "<div>\n",
       "<style scoped>\n",
       "    .dataframe tbody tr th:only-of-type {\n",
       "        vertical-align: middle;\n",
       "    }\n",
       "\n",
       "    .dataframe tbody tr th {\n",
       "        vertical-align: top;\n",
       "    }\n",
       "\n",
       "    .dataframe thead th {\n",
       "        text-align: right;\n",
       "    }\n",
       "</style>\n",
       "<table border=\"1\" class=\"dataframe\">\n",
       "  <thead>\n",
       "    <tr style=\"text-align: right;\">\n",
       "      <th></th>\n",
       "      <th>Unnamed: 0</th>\n",
       "      <th>TV</th>\n",
       "      <th>Radio</th>\n",
       "      <th>Newspaper</th>\n",
       "      <th>Sales</th>\n",
       "      <th>total_spend</th>\n",
       "    </tr>\n",
       "  </thead>\n",
       "  <tbody>\n",
       "    <tr>\n",
       "      <th>0</th>\n",
       "      <td>1</td>\n",
       "      <td>230.1</td>\n",
       "      <td>37.8</td>\n",
       "      <td>69.2</td>\n",
       "      <td>22.1</td>\n",
       "      <td>337.1</td>\n",
       "    </tr>\n",
       "    <tr>\n",
       "      <th>1</th>\n",
       "      <td>2</td>\n",
       "      <td>44.5</td>\n",
       "      <td>39.3</td>\n",
       "      <td>45.1</td>\n",
       "      <td>10.4</td>\n",
       "      <td>128.9</td>\n",
       "    </tr>\n",
       "    <tr>\n",
       "      <th>2</th>\n",
       "      <td>3</td>\n",
       "      <td>17.2</td>\n",
       "      <td>45.9</td>\n",
       "      <td>69.3</td>\n",
       "      <td>9.3</td>\n",
       "      <td>132.4</td>\n",
       "    </tr>\n",
       "    <tr>\n",
       "      <th>3</th>\n",
       "      <td>4</td>\n",
       "      <td>151.5</td>\n",
       "      <td>41.3</td>\n",
       "      <td>58.5</td>\n",
       "      <td>18.5</td>\n",
       "      <td>251.3</td>\n",
       "    </tr>\n",
       "    <tr>\n",
       "      <th>4</th>\n",
       "      <td>5</td>\n",
       "      <td>180.8</td>\n",
       "      <td>10.8</td>\n",
       "      <td>58.4</td>\n",
       "      <td>12.9</td>\n",
       "      <td>250.0</td>\n",
       "    </tr>\n",
       "  </tbody>\n",
       "</table>\n",
       "</div>"
      ],
      "text/plain": [
       "   Unnamed: 0     TV  Radio  Newspaper  Sales  total_spend\n",
       "0           1  230.1   37.8       69.2   22.1        337.1\n",
       "1           2   44.5   39.3       45.1   10.4        128.9\n",
       "2           3   17.2   45.9       69.3    9.3        132.4\n",
       "3           4  151.5   41.3       58.5   18.5        251.3\n",
       "4           5  180.8   10.8       58.4   12.9        250.0"
      ]
     },
     "execution_count": 20,
     "metadata": {},
     "output_type": "execute_result"
    }
   ],
   "source": [
    "df.head()"
   ]
  },
  {
   "cell_type": "code",
   "execution_count": 21,
   "id": "4e3afb0b-45c1-41f0-9059-805f34b11a2f",
   "metadata": {},
   "outputs": [],
   "source": [
    "# X = df Has to be dataframes.\n",
    "# Y = One column only, i.e Series"
   ]
  },
  {
   "cell_type": "code",
   "execution_count": 25,
   "id": "6bbfab8c-d93d-43d4-890d-bf40af786c0f",
   "metadata": {},
   "outputs": [
    {
     "data": {
      "text/html": [
       "<div>\n",
       "<style scoped>\n",
       "    .dataframe tbody tr th:only-of-type {\n",
       "        vertical-align: middle;\n",
       "    }\n",
       "\n",
       "    .dataframe tbody tr th {\n",
       "        vertical-align: top;\n",
       "    }\n",
       "\n",
       "    .dataframe thead th {\n",
       "        text-align: right;\n",
       "    }\n",
       "</style>\n",
       "<table border=\"1\" class=\"dataframe\">\n",
       "  <thead>\n",
       "    <tr style=\"text-align: right;\">\n",
       "      <th></th>\n",
       "      <th>Unnamed: 0</th>\n",
       "      <th>TV</th>\n",
       "      <th>Radio</th>\n",
       "      <th>Newspaper</th>\n",
       "      <th>total_spend</th>\n",
       "    </tr>\n",
       "  </thead>\n",
       "  <tbody>\n",
       "    <tr>\n",
       "      <th>0</th>\n",
       "      <td>1</td>\n",
       "      <td>230.1</td>\n",
       "      <td>37.8</td>\n",
       "      <td>69.2</td>\n",
       "      <td>337.1</td>\n",
       "    </tr>\n",
       "    <tr>\n",
       "      <th>1</th>\n",
       "      <td>2</td>\n",
       "      <td>44.5</td>\n",
       "      <td>39.3</td>\n",
       "      <td>45.1</td>\n",
       "      <td>128.9</td>\n",
       "    </tr>\n",
       "    <tr>\n",
       "      <th>2</th>\n",
       "      <td>3</td>\n",
       "      <td>17.2</td>\n",
       "      <td>45.9</td>\n",
       "      <td>69.3</td>\n",
       "      <td>132.4</td>\n",
       "    </tr>\n",
       "    <tr>\n",
       "      <th>3</th>\n",
       "      <td>4</td>\n",
       "      <td>151.5</td>\n",
       "      <td>41.3</td>\n",
       "      <td>58.5</td>\n",
       "      <td>251.3</td>\n",
       "    </tr>\n",
       "    <tr>\n",
       "      <th>4</th>\n",
       "      <td>5</td>\n",
       "      <td>180.8</td>\n",
       "      <td>10.8</td>\n",
       "      <td>58.4</td>\n",
       "      <td>250.0</td>\n",
       "    </tr>\n",
       "    <tr>\n",
       "      <th>...</th>\n",
       "      <td>...</td>\n",
       "      <td>...</td>\n",
       "      <td>...</td>\n",
       "      <td>...</td>\n",
       "      <td>...</td>\n",
       "    </tr>\n",
       "    <tr>\n",
       "      <th>195</th>\n",
       "      <td>196</td>\n",
       "      <td>38.2</td>\n",
       "      <td>3.7</td>\n",
       "      <td>13.8</td>\n",
       "      <td>55.7</td>\n",
       "    </tr>\n",
       "    <tr>\n",
       "      <th>196</th>\n",
       "      <td>197</td>\n",
       "      <td>94.2</td>\n",
       "      <td>4.9</td>\n",
       "      <td>8.1</td>\n",
       "      <td>107.2</td>\n",
       "    </tr>\n",
       "    <tr>\n",
       "      <th>197</th>\n",
       "      <td>198</td>\n",
       "      <td>177.0</td>\n",
       "      <td>9.3</td>\n",
       "      <td>6.4</td>\n",
       "      <td>192.7</td>\n",
       "    </tr>\n",
       "    <tr>\n",
       "      <th>198</th>\n",
       "      <td>199</td>\n",
       "      <td>283.6</td>\n",
       "      <td>42.0</td>\n",
       "      <td>66.2</td>\n",
       "      <td>391.8</td>\n",
       "    </tr>\n",
       "    <tr>\n",
       "      <th>199</th>\n",
       "      <td>200</td>\n",
       "      <td>232.1</td>\n",
       "      <td>8.6</td>\n",
       "      <td>8.7</td>\n",
       "      <td>249.4</td>\n",
       "    </tr>\n",
       "  </tbody>\n",
       "</table>\n",
       "<p>200 rows × 5 columns</p>\n",
       "</div>"
      ],
      "text/plain": [
       "     Unnamed: 0     TV  Radio  Newspaper  total_spend\n",
       "0             1  230.1   37.8       69.2        337.1\n",
       "1             2   44.5   39.3       45.1        128.9\n",
       "2             3   17.2   45.9       69.3        132.4\n",
       "3             4  151.5   41.3       58.5        251.3\n",
       "4             5  180.8   10.8       58.4        250.0\n",
       "..          ...    ...    ...        ...          ...\n",
       "195         196   38.2    3.7       13.8         55.7\n",
       "196         197   94.2    4.9        8.1        107.2\n",
       "197         198  177.0    9.3        6.4        192.7\n",
       "198         199  283.6   42.0       66.2        391.8\n",
       "199         200  232.1    8.6        8.7        249.4\n",
       "\n",
       "[200 rows x 5 columns]"
      ]
     },
     "execution_count": 25,
     "metadata": {},
     "output_type": "execute_result"
    }
   ],
   "source": [
    "X = df.drop(\"Sales\", axis = 1)\n",
    "X"
   ]
  },
  {
   "cell_type": "code",
   "execution_count": 26,
   "id": "9632c7aa-6e1b-47d5-922b-f3f06d8a6a37",
   "metadata": {},
   "outputs": [
    {
     "data": {
      "text/plain": [
       "0      22.1\n",
       "1      10.4\n",
       "2       9.3\n",
       "3      18.5\n",
       "4      12.9\n",
       "       ... \n",
       "195     7.6\n",
       "196     9.7\n",
       "197    12.8\n",
       "198    25.5\n",
       "199    13.4\n",
       "Name: Sales, Length: 200, dtype: float64"
      ]
     },
     "execution_count": 26,
     "metadata": {},
     "output_type": "execute_result"
    }
   ],
   "source": [
    "y = df[\"Sales\"]   # target_varibales, dependend, \n",
    "y"
   ]
  },
  {
   "cell_type": "code",
   "execution_count": 27,
   "id": "1a987b9e-f6f6-4e76-82f7-ccc3197b748a",
   "metadata": {},
   "outputs": [],
   "source": [
    "from sklearn.model_selection import train_test_split   # ITS IS A FUNCTION\n",
    "help(train_test_split)"
   ]
  },
  {
   "cell_type": "code",
   "execution_count": 28,
   "id": "c41ce228-c357-4de5-93c7-82f7ed55a4b6",
   "metadata": {},
   "outputs": [],
   "source": [
    "X_train, X_test, y_train, y_test = train_test_split(X,y,test_size = 0.33, random_state=42)"
   ]
  },
  {
   "cell_type": "code",
   "execution_count": 29,
   "id": "791755c8-d5aa-4d73-a7a2-9602cae96fbe",
   "metadata": {},
   "outputs": [
    {
     "data": {
      "text/plain": [
       "(     Unnamed: 0     TV  Radio  Newspaper  total_spend\n",
       " 42           43  293.6   27.7        1.8        323.1\n",
       " 189         190   18.7   12.1       23.4         54.2\n",
       " 90           91  134.3    4.9        9.3        148.5\n",
       " 136         137   25.6   39.0        9.3         73.9\n",
       " 51           52  100.4    9.6        3.6        113.6\n",
       " ..          ...    ...    ...        ...          ...\n",
       " 106         107   25.0   11.0       29.7         65.7\n",
       " 14           15  204.1   32.9       46.0        283.0\n",
       " 92           93  217.7   33.5       59.0        310.2\n",
       " 179         180  165.6   10.0       17.6        193.2\n",
       " 102         103  280.2   10.1       21.4        311.7\n",
       " \n",
       " [134 rows x 5 columns],\n",
       "      Unnamed: 0     TV  Radio  Newspaper  total_spend\n",
       " 95           96  163.3   31.6       52.9        247.8\n",
       " 15           16  195.4   47.7       52.9        296.0\n",
       " 30           31  292.9   28.3       43.2        364.4\n",
       " 158         159   11.7   36.9       45.2         93.8\n",
       " 128         129  220.3   49.0        3.2        272.5\n",
       " ..          ...    ...    ...        ...          ...\n",
       " 97           98  184.9   21.0       22.0        227.9\n",
       " 31           32  112.9   17.4       38.6        168.9\n",
       " 12           13   23.8   35.1       65.9        124.8\n",
       " 35           36  290.7    4.1        8.5        303.3\n",
       " 119         120   19.4   16.0       22.3         57.7\n",
       " \n",
       " [66 rows x 5 columns],\n",
       " 42     20.7\n",
       " 189     6.7\n",
       " 90     11.2\n",
       " 136     9.5\n",
       " 51     10.7\n",
       "        ... \n",
       " 106     7.2\n",
       " 14     19.0\n",
       " 92     19.4\n",
       " 179    12.6\n",
       " 102    14.8\n",
       " Name: Sales, Length: 134, dtype: float64,\n",
       " 95     16.9\n",
       " 15     22.4\n",
       " 30     21.4\n",
       " 158     7.3\n",
       " 128    24.7\n",
       "        ... \n",
       " 97     15.5\n",
       " 31     11.9\n",
       " 12      9.2\n",
       " 35     12.8\n",
       " 119     6.6\n",
       " Name: Sales, Length: 66, dtype: float64)"
      ]
     },
     "execution_count": 29,
     "metadata": {},
     "output_type": "execute_result"
    }
   ],
   "source": [
    "X_train, X_test, y_train, y_test"
   ]
  },
  {
   "cell_type": "code",
   "execution_count": 30,
   "id": "c3d81c5f-baaa-4019-9c32-4dd3293b6f1e",
   "metadata": {},
   "outputs": [],
   "source": [
    "# Create Instance of MOdel: i.e Linear Regression"
   ]
  },
  {
   "cell_type": "code",
   "execution_count": 31,
   "id": "38036859-4a5f-4a43-bf30-52f29a1a8387",
   "metadata": {},
   "outputs": [],
   "source": [
    "from sklearn.linear_model import LinearRegression # function & model is LR , as LR is in capital that mean it is an Object. And for object we make Instance "
   ]
  },
  {
   "cell_type": "code",
   "execution_count": 32,
   "id": "e255c32e-88bb-4bee-92df-2dbfac9e8004",
   "metadata": {},
   "outputs": [],
   "source": [
    "model_1 = LinearRegression()"
   ]
  },
  {
   "cell_type": "code",
   "execution_count": 33,
   "id": "d2727ef8-b7d7-465c-93d8-e1c22ec2d2ae",
   "metadata": {},
   "outputs": [
    {
     "data": {
      "text/html": [
       "<style>#sk-container-id-1 {color: black;background-color: white;}#sk-container-id-1 pre{padding: 0;}#sk-container-id-1 div.sk-toggleable {background-color: white;}#sk-container-id-1 label.sk-toggleable__label {cursor: pointer;display: block;width: 100%;margin-bottom: 0;padding: 0.3em;box-sizing: border-box;text-align: center;}#sk-container-id-1 label.sk-toggleable__label-arrow:before {content: \"▸\";float: left;margin-right: 0.25em;color: #696969;}#sk-container-id-1 label.sk-toggleable__label-arrow:hover:before {color: black;}#sk-container-id-1 div.sk-estimator:hover label.sk-toggleable__label-arrow:before {color: black;}#sk-container-id-1 div.sk-toggleable__content {max-height: 0;max-width: 0;overflow: hidden;text-align: left;background-color: #f0f8ff;}#sk-container-id-1 div.sk-toggleable__content pre {margin: 0.2em;color: black;border-radius: 0.25em;background-color: #f0f8ff;}#sk-container-id-1 input.sk-toggleable__control:checked~div.sk-toggleable__content {max-height: 200px;max-width: 100%;overflow: auto;}#sk-container-id-1 input.sk-toggleable__control:checked~label.sk-toggleable__label-arrow:before {content: \"▾\";}#sk-container-id-1 div.sk-estimator input.sk-toggleable__control:checked~label.sk-toggleable__label {background-color: #d4ebff;}#sk-container-id-1 div.sk-label input.sk-toggleable__control:checked~label.sk-toggleable__label {background-color: #d4ebff;}#sk-container-id-1 input.sk-hidden--visually {border: 0;clip: rect(1px 1px 1px 1px);clip: rect(1px, 1px, 1px, 1px);height: 1px;margin: -1px;overflow: hidden;padding: 0;position: absolute;width: 1px;}#sk-container-id-1 div.sk-estimator {font-family: monospace;background-color: #f0f8ff;border: 1px dotted black;border-radius: 0.25em;box-sizing: border-box;margin-bottom: 0.5em;}#sk-container-id-1 div.sk-estimator:hover {background-color: #d4ebff;}#sk-container-id-1 div.sk-parallel-item::after {content: \"\";width: 100%;border-bottom: 1px solid gray;flex-grow: 1;}#sk-container-id-1 div.sk-label:hover label.sk-toggleable__label {background-color: #d4ebff;}#sk-container-id-1 div.sk-serial::before {content: \"\";position: absolute;border-left: 1px solid gray;box-sizing: border-box;top: 0;bottom: 0;left: 50%;z-index: 0;}#sk-container-id-1 div.sk-serial {display: flex;flex-direction: column;align-items: center;background-color: white;padding-right: 0.2em;padding-left: 0.2em;position: relative;}#sk-container-id-1 div.sk-item {position: relative;z-index: 1;}#sk-container-id-1 div.sk-parallel {display: flex;align-items: stretch;justify-content: center;background-color: white;position: relative;}#sk-container-id-1 div.sk-item::before, #sk-container-id-1 div.sk-parallel-item::before {content: \"\";position: absolute;border-left: 1px solid gray;box-sizing: border-box;top: 0;bottom: 0;left: 50%;z-index: -1;}#sk-container-id-1 div.sk-parallel-item {display: flex;flex-direction: column;z-index: 1;position: relative;background-color: white;}#sk-container-id-1 div.sk-parallel-item:first-child::after {align-self: flex-end;width: 50%;}#sk-container-id-1 div.sk-parallel-item:last-child::after {align-self: flex-start;width: 50%;}#sk-container-id-1 div.sk-parallel-item:only-child::after {width: 0;}#sk-container-id-1 div.sk-dashed-wrapped {border: 1px dashed gray;margin: 0 0.4em 0.5em 0.4em;box-sizing: border-box;padding-bottom: 0.4em;background-color: white;}#sk-container-id-1 div.sk-label label {font-family: monospace;font-weight: bold;display: inline-block;line-height: 1.2em;}#sk-container-id-1 div.sk-label-container {text-align: center;}#sk-container-id-1 div.sk-container {/* jupyter's `normalize.less` sets `[hidden] { display: none; }` but bootstrap.min.css set `[hidden] { display: none !important; }` so we also need the `!important` here to be able to override the default hidden behavior on the sphinx rendered scikit-learn.org. See: https://github.com/scikit-learn/scikit-learn/issues/21755 */display: inline-block !important;position: relative;}#sk-container-id-1 div.sk-text-repr-fallback {display: none;}</style><div id=\"sk-container-id-1\" class=\"sk-top-container\"><div class=\"sk-text-repr-fallback\"><pre>LinearRegression()</pre><b>In a Jupyter environment, please rerun this cell to show the HTML representation or trust the notebook. <br />On GitHub, the HTML representation is unable to render, please try loading this page with nbviewer.org.</b></div><div class=\"sk-container\" hidden><div class=\"sk-item\"><div class=\"sk-estimator sk-toggleable\"><input class=\"sk-toggleable__control sk-hidden--visually\" id=\"sk-estimator-id-1\" type=\"checkbox\" checked><label for=\"sk-estimator-id-1\" class=\"sk-toggleable__label sk-toggleable__label-arrow\">LinearRegression</label><div class=\"sk-toggleable__content\"><pre>LinearRegression()</pre></div></div></div></div></div>"
      ],
      "text/plain": [
       "LinearRegression()"
      ]
     },
     "execution_count": 33,
     "metadata": {},
     "output_type": "execute_result"
    }
   ],
   "source": [
    "model_1.fit(X_train, y_train)"
   ]
  },
  {
   "cell_type": "code",
   "execution_count": 36,
   "id": "5d4a8919-b1bc-4649-978e-47ddeafb15b1",
   "metadata": {},
   "outputs": [
    {
     "data": {
      "text/plain": [
       "array([16.585975  , 21.21532322, 21.69227359, 10.78721853, 22.24436064,\n",
       "       13.30628235, 21.2504897 ,  7.35896941, 13.41395576, 15.21479112,\n",
       "        9.03101674,  6.53873996, 14.38551706,  8.94580619,  9.53158119,\n",
       "       12.07825531,  8.87587732, 16.23384905, 10.31667839, 18.8497049 ,\n",
       "       19.79672229, 13.69754141, 12.43554051, 21.57865582,  7.69026184,\n",
       "        5.68674887, 20.9598931 , 11.90745906,  9.12144274,  8.48517263,\n",
       "       12.35724077, 10.0227661 , 21.73331021, 12.65125091, 18.23409167,\n",
       "       20.17501241, 14.19756077, 21.01107333, 10.89474985,  4.43662297,\n",
       "        9.60216605, 12.49762923, 10.16879519,  8.15899632, 13.32316067,\n",
       "        5.24178782,  9.33060279, 14.18410081,  8.74319968, 11.67710859,\n",
       "       15.65671046, 11.72808538, 13.24771147, 11.05045257,  6.41295864,\n",
       "        9.85860465,  9.4443335 , 24.324371  ,  7.66332787, 12.31212277,\n",
       "       17.55637468, 15.28145887, 11.4813757 , 11.15185016, 16.6268277 ,\n",
       "        6.89967715])"
      ]
     },
     "execution_count": 36,
     "metadata": {},
     "output_type": "execute_result"
    }
   ],
   "source": [
    "y_predicted = model_1.predict(X_test)\n",
    "y_predicted"
   ]
  },
  {
   "cell_type": "code",
   "execution_count": 5,
   "id": "1b3296da-b87b-496b-976f-336c38b7f40e",
   "metadata": {},
   "outputs": [],
   "source": [
    "# Model Elovution or Testing model\n",
    "\n",
    "from sklearn.metrics import mean_absolute_error, mean_squared_error, r2_score    # metrices has all the calculations functions"
   ]
  },
  {
   "cell_type": "code",
   "execution_count": 40,
   "id": "b7d26eb9-a2b0-441d-974f-a8a9c4752340",
   "metadata": {},
   "outputs": [
    {
     "data": {
      "text/plain": [
       "1.491650950918786"
      ]
     },
     "execution_count": 40,
     "metadata": {},
     "output_type": "execute_result"
    }
   ],
   "source": [
    "err_metric_1 = mean_absolute_error(y_test, y_predicted)\n",
    "err_metric_1"
   ]
  },
  {
   "cell_type": "code",
   "execution_count": 42,
   "id": "92cb44df-d37d-4cd0-91f0-11edc1064d57",
   "metadata": {},
   "outputs": [
    {
     "data": {
      "text/plain": [
       "3.728273433158328"
      ]
     },
     "execution_count": 42,
     "metadata": {},
     "output_type": "execute_result"
    }
   ],
   "source": [
    "err_metric_2 = mean_squared_error(y_test, y_predicted)\n",
    "err_metric_2 "
   ]
  },
  {
   "cell_type": "code",
   "execution_count": 43,
   "id": "e0ec15be-0141-479f-bd30-1fb51cc1068c",
   "metadata": {},
   "outputs": [
    {
     "data": {
      "text/plain": [
       "0.8555434716491414"
      ]
     },
     "execution_count": 43,
     "metadata": {},
     "output_type": "execute_result"
    }
   ],
   "source": [
    "err_metric_3 = r2_score(y_test, y_predicted)\n",
    "err_metric_3"
   ]
  },
  {
   "cell_type": "markdown",
   "id": "5bb2eec0-3277-4a5f-bde4-356ff58a0c1c",
   "metadata": {},
   "source": [
    "#### Defination of ML = Machine learning is subdomain or type of AI that allows machines to learn from the data through statistical modules and make predictions using various techniques"
   ]
  },
  {
   "cell_type": "markdown",
   "id": "1f5c8832-41e5-4dc8-a9f3-10aa3f93dcfd",
   "metadata": {},
   "source": [
    "##### if p value is less than alpha reject the null , coificiant is statistically significant, "
   ]
  },
  {
   "cell_type": "code",
   "execution_count": null,
   "id": "0f73abea-4a66-4a2f-b013-106a7edb44a0",
   "metadata": {},
   "outputs": [],
   "source": []
  }
 ],
 "metadata": {
  "kernelspec": {
   "display_name": "Python 3 (ipykernel)",
   "language": "python",
   "name": "python3"
  },
  "language_info": {
   "codemirror_mode": {
    "name": "ipython",
    "version": 3
   },
   "file_extension": ".py",
   "mimetype": "text/x-python",
   "name": "python",
   "nbconvert_exporter": "python",
   "pygments_lexer": "ipython3",
   "version": "3.12.7"
  }
 },
 "nbformat": 4,
 "nbformat_minor": 5
}
